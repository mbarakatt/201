{
 "cells": [
  {
   "cell_type": "code",
   "execution_count": 5,
   "metadata": {},
   "outputs": [
    {
     "name": "stdout",
     "output_type": "stream",
     "text": [
      "Enter the number of elements: 0 1 1 2 3 5 8 13 21 "
     ]
    }
   ],
   "source": [
    "int n1=0,n2=1,n3,i,number;    \n",
    "Console.Write(\"Enter the number of elements: \");    \n",
    "number = 9; //int.Parse(Console.ReadLine());  \n",
    "Console.Write(n1+\" \"+n2+\" \"); //printing 0 and 1    \n",
    "         \n",
    "for(i=2;i<number;++i) //loop starts from 2 because 0 and 1 are already printed    \n",
    "{    \n",
    "    n3=n1+n2;    \n",
    "    Console.Write(n3+\" \");    \n",
    "    n1=n2;    \n",
    "    n2=n3;\n",
    "}"
   ]
  },
  {
   "cell_type": "code",
   "execution_count": null,
   "metadata": {},
   "outputs": [],
   "source": []
  }
 ],
 "metadata": {
  "kernelspec": {
   "display_name": ".NET (C#)",
   "language": "C#",
   "name": ".net-csharp"
  },
  "language_info": {
   "file_extension": ".cs",
   "mimetype": "text/x-csharp",
   "name": "C#",
   "pygments_lexer": "csharp",
   "version": "8.0"
  }
 },
 "nbformat": 4,
 "nbformat_minor": 4
}
